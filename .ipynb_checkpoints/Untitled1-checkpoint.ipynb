{
 "cells": [
  {
   "cell_type": "code",
   "execution_count": null,
   "id": "bce4c07b-ffd1-4c30-bdc5-50f6894663ad",
   "metadata": {},
   "outputs": [],
   "source": [
    "!git clone https://github.com/ultralytics/yolov5\n",
    "%cd yolov5\n",
    "!pip install -r requirements.txt\n",
    "!pip install torch torchvision opencv-python\n"
   ]
  },
  {
   "cell_type": "code",
   "execution_count": null,
   "id": "58d62862-8b77-40fb-9793-0faeccf6891a",
   "metadata": {},
   "outputs": [],
   "source": [
    "import torch\n",
    "import cv2\n",
    "from IPython.display import display, clear_output\n",
    "import numpy as np\n",
    "import matplotlib.pyplot as plt\n",
    "\n",
    "# Load YOLOv5s model via torch.hub\n",
    "model = torch.hub.load('ultralytics/yolov5', 'yolov5s', pretrained=True)\n",
    "\n",
    "# Open webcam (device 0)\n",
    "cap = cv2.VideoCapture(0)\n",
    "cap.set(cv2.CAP_PROP_FRAME_WIDTH, 640)\n",
    "cap.set(cv2.CAP_PROP_FRAME_HEIGHT, 480)\n",
    "\n",
    "if not cap.isOpened():\n",
    "    raise RuntimeError(\"Could not open webcam.\")\n",
    "\n",
    "print(\"Starting detection — press 'q' in cv2 window to stop.\")\n",
    "\n",
    "try:\n",
    "    while True:\n",
    "        ret, frame = cap.read()\n",
    "        if not ret:\n",
    "            print(\"Failed to get frame.\")\n",
    "            break\n",
    "\n",
    "        results = model(frame)  # run inference\n",
    "\n",
    "        annotated = results.render()[0]  # BGR with boxes drawn\n",
    "        annotated_rgb = cv2.cvtColor(annotated, cv2.COLOR_BGR2RGB)\n",
    "\n",
    "        plt.imshow(annotated_rgb)\n",
    "        plt.axis('off')\n",
    "        display(plt.gcf())\n",
    "        clear_output(wait=True)\n",
    "\n",
    "        cv2.imshow(\"YOLOv5 Webcam\", annotated)\n",
    "        if cv2.waitKey(1) & 0xFF == ord('q'):\n",
    "            break\n",
    "finally:\n",
    "    cap.release()\n",
    "    cv2.destroyAllWindows()\n"
   ]
  },
  {
   "cell_type": "code",
   "execution_count": null,
   "id": "40e136b2-176e-4fa1-81be-1f54b0f60252",
   "metadata": {},
   "outputs": [],
   "source": [
    "results = model(frame, conf=0.25, iou=0.45)\n"
   ]
  },
  {
   "cell_type": "code",
   "execution_count": null,
   "id": "671e1294-6255-4d8d-9442-1c15006f7860",
   "metadata": {},
   "outputs": [],
   "source": [
    "python detect.py --weights yolov5s.pt --source 0 --view-img\n"
   ]
  },
  {
   "cell_type": "code",
   "execution_count": null,
   "id": "c2accaa7-a721-46ec-87e4-18450a1e8b06",
   "metadata": {},
   "outputs": [],
   "source": []
  },
  {
   "cell_type": "code",
   "execution_count": null,
   "id": "0f49d282-2dab-4e8a-82b3-1d03d0e7dcf5",
   "metadata": {},
   "outputs": [],
   "source": []
  }
 ],
 "metadata": {
  "kernelspec": {
   "display_name": "Python 3 (ipykernel)",
   "language": "python",
   "name": "python3"
  },
  "language_info": {
   "codemirror_mode": {
    "name": "ipython",
    "version": 3
   },
   "file_extension": ".py",
   "mimetype": "text/x-python",
   "name": "python",
   "nbconvert_exporter": "python",
   "pygments_lexer": "ipython3",
   "version": "3.13.5"
  }
 },
 "nbformat": 4,
 "nbformat_minor": 5
}
