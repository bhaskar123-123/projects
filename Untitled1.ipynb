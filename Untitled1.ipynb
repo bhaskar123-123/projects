{
 "cells": [
  {
   "cell_type": "code",
   "execution_count": null,
   "id": "bce4c07b-ffd1-4c30-bdc5-50f6894663ad",
   "metadata": {},
   "outputs": [],
   "source": [
    "!git clone https://github.com/ultralytics/yolov5\n",
    "%cd yolov5\n",
    "!pip install -r requirements.txt\n",
    "!pip install torch torchvision opencv-python\n"
   ]
  },
  {
   "cell_type": "code",
   "execution_count": null,
   "id": "58d62862-8b77-40fb-9793-0faeccf6891a",
   "metadata": {},
   "outputs": [],
   "source": [
    "import torch\n",
    "import cv2\n",
    "from IPython.display import display, clear_output\n",
    "import numpy as np\n",
    "import matplotlib.pyplot as plt\n",
    "\n",
    "# Load YOLOv5s model via torch.hub\n",
    "model = torch.hub.load('ultralytics/yolov5', 'yolov5s', pretrained=True)\n",
    "\n",
    "# Open webcam (device 0)\n",
    "cap = cv2.VideoCapture(0)\n",
    "cap.set(cv2.CAP_PROP_FRAME_WIDTH, 640)\n",
    "cap.set(cv2.CAP_PROP_FRAME_HEIGHT, 480)\n",
    "\n",
    "if not cap.isOpened():\n",
    "    raise RuntimeError(\"Could not open webcam.\")\n",
    "\n",
    "print(\"Starting detection — press 'q' in cv2 window to stop.\")\n",
    "\n",
    "try:\n",
    "    while True:\n",
    "        ret, frame = cap.read()\n",
    "        if not ret:\n",
    "            print(\"Failed to get frame.\")\n",
    "            break\n",
    "\n",
    "        results = model(frame)  # run inference\n",
    "\n",
    "        annotated = results.render()[0]  # BGR with boxes drawn\n",
    "        annotated_rgb = cv2.cvtColor(annotated, cv2.COLOR_BGR2RGB)\n",
    "\n",
    "        plt.imshow(annotated_rgb)\n",
    "        plt.axis('off')\n",
    "        display(plt.gcf())\n",
    "        clear_output(wait=True)\n",
    "\n",
    "        cv2.imshow(\"YOLOv5 Webcam\", annotated)\n",
    "        if cv2.waitKey(1) & 0xFF == ord('q'):\n",
    "            break\n",
    "finally:\n",
    "    cap.release()\n",
    "    cv2.destroyAllWindows()\n"
   ]
  },
  {
   "cell_type": "code",
   "execution_count": null,
   "id": "40e136b2-176e-4fa1-81be-1f54b0f60252",
   "metadata": {},
   "outputs": [],
   "source": [
    "results = model(frame, conf=0.25, iou=0.45)\n"
   ]
  },
  {
   "cell_type": "code",
   "execution_count": null,
   "id": "671e1294-6255-4d8d-9442-1c15006f7860",
   "metadata": {},
   "outputs": [],
   "source": [
    "python detect.py --weights yolov5s.pt --source 0 --view-img\n"
   ]
  },
  {
   "cell_type": "code",
   "execution_count": 4,
   "id": "c2accaa7-a721-46ec-87e4-18450a1e8b06",
   "metadata": {},
   "outputs": [
    {
     "ename": "SyntaxError",
     "evalue": "invalid syntax (958510120.py, line 47)",
     "output_type": "error",
     "traceback": [
      "  \u001b[36mCell\u001b[39m\u001b[36m \u001b[39m\u001b[32mIn[4]\u001b[39m\u001b[32m, line 47\u001b[39m\n\u001b[31m    \u001b[39m\u001b[31mpython detect.py --weights yolov5s.pt --source 0 --conf 0.25\u001b[39m\n           ^\n\u001b[31mSyntaxError\u001b[39m\u001b[31m:\u001b[39m invalid syntax\n"
     ]
    }
   ],
   "source": [
    "import torch, cv2, pandas as pd\n",
    "from datetime import datetime\n",
    "import os\n",
    "\n",
    "model = torch.hub.load('ultralytics/yolov5', 'yolov5s', trust_repo=True)\n",
    "\n",
    "cap = cv2.VideoCapture(0)\n",
    "cap.set(cv2.CAP_PROP_FRAME_WIDTH, 1280)\n",
    "cap.set(cv2.CAP_PROP_FRAME_HEIGHT, 720)\n",
    "\n",
    "frame_width, frame_height = int(cap.get(3)), int(cap.get(4))\n",
    "out = cv2.VideoWriter('output.avi', cv2.VideoWriter_fourcc(*'XVID'), 20, (frame_width, frame_height))\n",
    "log = []\n",
    "os.makedirs('detected_frames', exist_ok=True)\n",
    "\n",
    "conf_thresh = 0.5\n",
    "frame_count = 0\n",
    "\n",
    "while cap.isOpened():\n",
    "    ret, frame = cap.read()\n",
    "    if not ret: break\n",
    "\n",
    "    results = model(frame)\n",
    "    labels, cords = results.xyxyn[0][:, -1].numpy(), results.xyxyn[0][:, :-1].numpy()\n",
    "\n",
    "    for i, row in enumerate(cords):\n",
    "        if row[4] >= conf_thresh:\n",
    "            x1, y1, x2, y2 = int(row[0]*frame_width), int(row[1]*frame_height), int(row[2]*frame_width), int(row[3]*frame_height)\n",
    "            cls = model.names[int(labels[i])]\n",
    "            conf = float(row[4])\n",
    "            cv2.rectangle(frame, (x1,y1), (x2,y2), (0,255,0), 2)\n",
    "            cv2.putText(frame, f\"{cls} {conf:.2f}\", (x1, y1 - 10), cv2.FONT_HERSHEY_SIMPLEX, 0.5, (0,255,0), 2)\n",
    "            log.append([datetime.now().isoformat(), cls, conf, frame_count])\n",
    "\n",
    "    out.write(frame)\n",
    "    cv2.imshow('YOLOv5 Detection', frame)\n",
    "    if cv2.waitKey(1) & 0xFF == ord('q'): break\n",
    "\n",
    "    frame_count += 1\n",
    "\n",
    "cap.release()\n",
    "out.release()\n",
    "cv2.destroyAllWindows()\n",
    "\n",
    "pd.DataFrame(log, columns=['time','class','conf','frame']).to_csv('detection_log.csv', index=False)\n",
    "print(\"Saved output video, frames folder, and detection log.\")\n",
    "python detect.py --weights yolov5s.pt --source 0 --conf 0.25\n",
    "\n"
   ]
  },
  {
   "cell_type": "code",
   "execution_count": null,
   "id": "0f49d282-2dab-4e8a-82b3-1d03d0e7dcf5",
   "metadata": {},
   "outputs": [],
   "source": []
  },
  {
   "cell_type": "code",
   "execution_count": null,
   "id": "d6c9490b-a769-4bb3-a62a-237109bbf221",
   "metadata": {},
   "outputs": [],
   "source": []
  },
  {
   "cell_type": "code",
   "execution_count": null,
   "id": "558c8003-a455-40d9-b506-77a224b87b7c",
   "metadata": {},
   "outputs": [],
   "source": []
  },
  {
   "cell_type": "code",
   "execution_count": null,
   "id": "403a725d-4f54-473e-8653-c8aae760125c",
   "metadata": {},
   "outputs": [],
   "source": []
  },
  {
   "cell_type": "code",
   "execution_count": null,
   "id": "d3fcd7db-f5fb-423f-8f00-17530c05fe1c",
   "metadata": {},
   "outputs": [],
   "source": []
  }
 ],
 "metadata": {
  "kernelspec": {
   "display_name": "Python 3 (ipykernel)",
   "language": "python",
   "name": "python3"
  },
  "language_info": {
   "codemirror_mode": {
    "name": "ipython",
    "version": 3
   },
   "file_extension": ".py",
   "mimetype": "text/x-python",
   "name": "python",
   "nbconvert_exporter": "python",
   "pygments_lexer": "ipython3",
   "version": "3.13.5"
  }
 },
 "nbformat": 4,
 "nbformat_minor": 5
}
